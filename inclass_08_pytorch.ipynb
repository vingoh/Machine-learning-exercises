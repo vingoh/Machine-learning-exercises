{
 "cells": [
  {
   "cell_type": "markdown",
   "metadata": {},
   "source": [
    "# In-class exercise 8: PyTorch from the bottom up"
   ]
  },
  {
   "cell_type": "markdown",
   "metadata": {},
   "source": [
    "Based on Jeremy Howard's PyTorch tutorial \"What is torch.nn really?\""
   ]
  },
  {
   "cell_type": "markdown",
   "metadata": {},
   "source": [
    "In this tutorial we will start at [PyTorch](https://pytorch.org/docs)'s lowest layer and then gradually introduce functions and features until we arrive at `nn.Sequential`. Lower layers give you more control over what you want to do, while higher layers allow for faster implementations. So in practice you have to choose at which layer you want to work. Moreover, knowing how the lower layers work will give you a better understanding of what is happening behind the scenes when working with the higher level abstractions."
   ]
  },
  {
   "cell_type": "code",
   "execution_count": 111,
   "metadata": {},
   "outputs": [],
   "source": [
    "import numpy as np\n",
    "import torch\n",
    "import torchvision\n",
    "import matplotlib.pyplot as plt\n",
    "import os\n",
    "os.environ[\"KMP_DUPLICATE_LIB_OK\"]=\"TRUE\"\n",
    "import time"
   ]
  },
  {
   "cell_type": "markdown",
   "metadata": {},
   "source": [
    "# Download the data\n",
    "In this tutorial we will be working with the MNIST dataset. This is a classic dataset consisting of black and white images of hand-drawn digits.\n",
    "\n",
    "We will use [torchvision](https://pytorch.org/docs/stable/torchvision) to download the dataset. Torchvision also provides a lot of functionality for data preprocessing and augmentation, which is beyond the scope of this tutorial."
   ]
  },
  {
   "cell_type": "code",
   "execution_count": 112,
   "metadata": {},
   "outputs": [],
   "source": [
    "mnist_dev = torchvision.datasets.MNIST('./data', train=True, download=True)\n",
    "mnist_test = torchvision.datasets.MNIST('./data', train=False, download=True)"
   ]
  },
  {
   "cell_type": "markdown",
   "metadata": {},
   "source": [
    "The input data $\\mathbf{X}$ and targets $\\mathbf{y}$ are saved in `data` and `targets`, so we will at first just extract these and work with the raw data. We also convert them to values between 0 and 1."
   ]
  },
  {
   "cell_type": "code",
   "execution_count": 113,
   "metadata": {},
   "outputs": [],
   "source": [
    "x_dev = mnist_dev.data / 255.0\n",
    "y_dev = mnist_dev.targets"
   ]
  },
  {
   "cell_type": "markdown",
   "metadata": {},
   "source": [
    "MNIST consists of 60,000 28x28 images, each corresponding to a single digit (0 to 9)."
   ]
  },
  {
   "cell_type": "code",
   "execution_count": 114,
   "metadata": {},
   "outputs": [
    {
     "name": "stdout",
     "output_type": "stream",
     "text": [
      "torch.Size([60000, 28, 28])\n",
      "torch.Size([60000])\n"
     ]
    },
    {
     "data": {
      "text/plain": [
       "<matplotlib.image.AxesImage at 0x7fc0627f6c90>"
      ]
     },
     "execution_count": 114,
     "metadata": {},
     "output_type": "execute_result"
    },
    {
     "data": {
      "image/png": "[encoded data removed]",
      "text/plain": [
       "<Figure size 432x288 with 1 Axes>"
      ]
     },
     "metadata": {
      "needs_background": "light"
     },
     "output_type": "display_data"
    }
   ],
   "source": [
    "print(x_dev.shape)\n",
    "print(y_dev.shape)\n",
    "\n",
    "plt.imshow(x_dev[5], cmap='gray')"
   ]
  },
  {
   "cell_type": "markdown",
   "metadata": {},
   "source": [
    "Note that setting `train=True` gives you the development set, i.e. both training and validation data. So we need to split this further."
   ]
  },
  {
   "cell_type": "code",
   "execution_count": 115,
   "metadata": {},
   "outputs": [],
   "source": [
    "ntrain = 50_000\n",
    "x_train, y_train = x_dev[:ntrain].flatten(1), y_dev[:ntrain]\n",
    "x_val, y_val = x_dev[ntrain:].flatten(1), y_dev[ntrain:]"
   ]
  },
  {
   "cell_type": "code",
   "execution_count": 116,
   "metadata": {},
   "outputs": [
    {
     "name": "stdout",
     "output_type": "stream",
     "text": [
      "[1 2 3 4]\n",
      "[2 3 4]\n",
      "[1]\n"
     ]
    }
   ],
   "source": [
    "a = np.array([1,2,3,4])\n",
    "print(a)\n",
    "print(a[1:])\n",
    "print(a[:1])"
   ]
  },
  {
   "cell_type": "markdown",
   "metadata": {},
   "source": [
    "# torch.tensor\n",
    "PyTorch uses its own `torch.tensor` datatype. This is very similar to a Numpy Array, but can also be moved to and used for calculations on a GPU, and supports storing gradient information and hence dynamic backpropagation."
   ]
  },
  {
   "cell_type": "markdown",
   "metadata": {},
   "source": [
    "We start by manually setting up an affine layer. The special function `requires_grad` tells PyTorch that these weights require gradients. PyTorch will then record all operations done on the tensor, so backpropagation can be done automatically. Thanks to this ability we can use any normal function as a model in PyTorch.\n",
    "\n",
    "Note that we initialize the weights via Xavier (Glorot) initialization. We only activate gradients after initialization, since we don't want gradients for that.\n",
    "\n",
    "Appending a function with `_` in PyTorch denotes in-place operations."
   ]
  },
  {
   "cell_type": "code",
   "execution_count": 117,
   "metadata": {},
   "outputs": [],
   "source": [
    "num_features = 28 * 28  #fan-in\n",
    "num_classes = 10        #fan-out\n",
    "\n",
    "weight = torch.randn(num_features, num_classes) * np.sqrt(2 / (num_features + num_classes))\n",
    "weight.requires_grad_()\n",
    "bias = torch.zeros(num_classes, requires_grad=True)"
   ]
  },
  {
   "cell_type": "code",
   "execution_count": 118,
   "metadata": {},
   "outputs": [
    {
     "data": {
      "text/plain": [
       "tensor([[ 0.0396, -0.0645,  0.0050,  ..., -0.1255, -0.0191, -0.0336],\n",
       "        [ 0.0174,  0.0312, -0.0805,  ...,  0.0119,  0.0334,  0.0206],\n",
       "        [-0.0850,  0.0594,  0.0389,  ..., -0.0322, -0.0110,  0.0524],\n",
       "        ...,\n",
       "        [ 0.0216, -0.0170, -0.0306,  ...,  0.0486,  0.0766,  0.0228],\n",
       "        [ 0.0401,  0.0651, -0.0544,  ..., -0.0910, -0.0967,  0.0273],\n",
       "        [-0.0436, -0.0003, -0.0164,  ...,  0.0345,  0.0296,  0.0032]],\n",
       "       requires_grad=True)"
      ]
     },
     "execution_count": 118,
     "metadata": {},
     "output_type": "execute_result"
    }
   ],
   "source": [
    "weight"
   ]
  },
  {
   "cell_type": "markdown",
   "metadata": {},
   "source": [
    "We now use these weights to create a simple linear model (i.e. logistic regression). We furthermore define a loss (negative log-likelihood) for training and a function to obtain the prediction accuracy."
   ]
  },
  {
   "cell_type": "code",
   "execution_count": 119,
   "metadata": {},
   "outputs": [],
   "source": [
    "def model(input):\n",
    "    return log_softmax(input @ weight + bias)\n",
    "\n",
    "def log_softmax(input):\n",
    "    return input - input.exp().sum(-1).log().unsqueeze(-1)\n",
    "\n",
    "def nll_loss(output, target):\n",
    "    return -output[range(target.shape[0]), target].mean()\n",
    "loss_fn = nll_loss\n",
    "\n",
    "def get_accuracy(output, target):\n",
    "    pred = torch.argmax(output, dim=1)\n",
    "    return (pred == target).float().mean()"
   ]
  },
  {
   "cell_type": "code",
   "execution_count": 120,
   "metadata": {},
   "outputs": [
    {
     "name": "stdout",
     "output_type": "stream",
     "text": [
      "tensor([[-0.5479, -2.3132,  0.4013],\n",
      "        [ 0.8815,  0.3768, -0.9720]])\n",
      "tensor([[-2.4598],\n",
      "        [ 0.2864]])\n"
     ]
    },
    {
     "data": {
      "text/plain": [
       "tensor([-2.4598,  0.2864])"
      ]
     },
     "execution_count": 120,
     "metadata": {},
     "output_type": "execute_result"
    }
   ],
   "source": [
    "a = torch.randn(2, 3)\n",
    "print(a)\n",
    "b = a.sum(-1, keepdim = True)\n",
    "print(b)\n",
    "c = a.sum(-1)\n",
    "c"
   ]
  },
  {
   "cell_type": "markdown",
   "metadata": {},
   "source": [
    "Let's see how our model performs before training."
   ]
  },
  {
   "cell_type": "code",
   "execution_count": 121,
   "metadata": {},
   "outputs": [
    {
     "name": "stdout",
     "output_type": "stream",
     "text": [
      "tensor(0.1875)\n"
     ]
    }
   ],
   "source": [
    "batch_size = 64\n",
    "\n",
    "print(get_accuracy(model(x_train[:batch_size]), y_train[:batch_size]))"
   ]
  },
  {
   "cell_type": "markdown",
   "metadata": {},
   "source": [
    "We can now define a training loop. In this loop we need to\n",
    "1. Get a mini-batch of data. When using dynamic computation graphs like in PyTorch it is important to choose a batch size that is large enough to leverage your hardware properly.\n",
    "2. Generate predictions with our model\n",
    "3. Calculate the loss\n",
    "4. Update the gradients via `loss.backward()`\n",
    "5. Update the `weight` and `bias` based on the gradients (optimization)"
   ]
  },
  {
   "cell_type": "code",
   "execution_count": 122,
   "metadata": {},
   "outputs": [],
   "source": [
    "learning_rate = 0.5\n",
    "num_epochs = 2\n",
    "\n",
    "for epoch in range(num_epochs):\n",
    "    for i in range(int(np.ceil(ntrain / batch_size))):\n",
    "        # Get mini-batch\n",
    "        start_i = i * batch_size\n",
    "        end_i = min(start_i + batch_size, ntrain)\n",
    "        xb = x_train[start_i:end_i]\n",
    "        yb = y_train[start_i:end_i]\n",
    "        \n",
    "        # Generate predictions\n",
    "        pred = model(xb)\n",
    "        \n",
    "        # Calculate loss\n",
    "        loss = loss_fn(pred, yb)\n",
    "        \n",
    "        # Update gradients\n",
    "        loss.backward()\n",
    "        \n",
    "        # Optimization step\n",
    "        with torch.no_grad():\n",
    "            weight -= learning_rate * weight.grad\n",
    "            bias -= learning_rate * bias.grad\n",
    "        weight.grad.zero_()\n",
    "        bias.grad.zero_()"
   ]
  },
  {
   "cell_type": "markdown",
   "metadata": {},
   "source": [
    "That is all we need! And now we can check if our performance has improved."
   ]
  },
  {
   "cell_type": "code",
   "execution_count": 123,
   "metadata": {},
   "outputs": [
    {
     "name": "stdout",
     "output_type": "stream",
     "text": [
      "tensor(0.2287, grad_fn=<NegBackward>)\n",
      "tensor(0.9375)\n"
     ]
    }
   ],
   "source": [
    "print(loss_fn(model(x_train[:batch_size]), y_train[:batch_size]))\n",
    "print(get_accuracy(model(x_train[:batch_size]), y_train[:batch_size]))"
   ]
  },
  {
   "cell_type": "markdown",
   "metadata": {},
   "source": [
    "Nice, it works! Wasn't this already way easier than with pure Numpy? But this is just the start. Now that we've implemented our model in the lowest level of PyTorch we can start to go up the ladder and make this even better and simpler!"
   ]
  },
  {
   "cell_type": "markdown",
   "metadata": {},
   "source": [
    "# torch.nn.functional"
   ]
  },
  {
   "cell_type": "markdown",
   "metadata": {},
   "source": [
    "We will start by replacing some of our hand-written functions with their professionally implemented counterparts in `torch.nn.functional`. This library contains all of the PyTorch functions (other parts contain the classes). It is commonly imported via"
   ]
  },
  {
   "cell_type": "code",
   "execution_count": 124,
   "metadata": {},
   "outputs": [],
   "source": [
    "import torch.nn.functional as F"
   ]
  },
  {
   "cell_type": "markdown",
   "metadata": {},
   "source": [
    "Instead of using `log_softmax` and `neg_loglikelihood` we can instead just use `F.cross_entropy`, which combines both of these."
   ]
  },
  {
   "cell_type": "code",
   "execution_count": 125,
   "metadata": {},
   "outputs": [],
   "source": [
    "def model(xb):\n",
    "    return xb @ weight + bias\n",
    "\n",
    "loss_fn = F.cross_entropy"
   ]
  },
  {
   "cell_type": "markdown",
   "metadata": {},
   "source": [
    "The loss should still be the same."
   ]
  },
  {
   "cell_type": "code",
   "execution_count": 126,
   "metadata": {},
   "outputs": [
    {
     "name": "stdout",
     "output_type": "stream",
     "text": [
      "tensor(0.2287, grad_fn=<NllLossBackward>)\n"
     ]
    }
   ],
   "source": [
    "print(loss_fn(model(x_train[:batch_size]), y_train[:batch_size]))"
   ]
  },
  {
   "cell_type": "markdown",
   "metadata": {},
   "source": [
    "# nn.Module\n",
    "Next we will use `nn.Module` and `nn.Parameter` for a clearer and more concise model definition and training loop. By subclassing `nn.Module` we obtain various convenience functions such as `.parameters()` and `.zero_grad()`."
   ]
  },
  {
   "cell_type": "code",
   "execution_count": 127,
   "metadata": {},
   "outputs": [],
   "source": [
    "from torch import nn\n",
    "\n",
    "class LogisticRegression(nn.Module):\n",
    "    def __init__(self, num_features, num_classes):\n",
    "        super().__init__()\n",
    "        self.weight = nn.Parameter(torch.randn(num_features, num_classes) * np.sqrt(2 / (num_features + num_classes)))\n",
    "        self.bias = nn.Parameter(torch.zeros(num_classes))\n",
    "        \n",
    "    def forward(self, input):\n",
    "        return input @ self.weight + self.bias"
   ]
  },
  {
   "cell_type": "code",
   "execution_count": 128,
   "metadata": {},
   "outputs": [
    {
     "data": {
      "text/plain": [
       "Parameter containing:\n",
       "tensor([[-0.0336, -0.0472, -0.0241,  ..., -0.0077, -0.0058,  0.0821],\n",
       "        [ 0.0744, -0.0105, -0.0651,  ...,  0.0450,  0.0213, -0.0554],\n",
       "        [ 0.0098, -0.0983,  0.0020,  ...,  0.0110,  0.0157, -0.0502],\n",
       "        ...,\n",
       "        [-0.0162,  0.0563,  0.0099,  ..., -0.0611, -0.1002,  0.0022],\n",
       "        [-0.0136, -0.0161,  0.0004,  ...,  0.0046, -0.0659,  0.1233],\n",
       "        [ 0.0203,  0.0527,  0.0057,  ..., -0.0059, -0.0440, -0.0225]],\n",
       "       requires_grad=True)"
      ]
     },
     "execution_count": 128,
     "metadata": {},
     "output_type": "execute_result"
    }
   ],
   "source": [
    "# nn.Parameter is similar to nn.Tensor but kind of different \n",
    "# https://blog.csdn.net/qq_28753373/article/details/104179354\n",
    "weight = nn.Parameter(torch.randn(num_features, num_classes) * np.sqrt(2 / (num_features + num_classes)))\n",
    "weight"
   ]
  },
  {
   "cell_type": "markdown",
   "metadata": {},
   "source": [
    "Since `LogRegression` is now a class we will have to first instantiate it before using it. We can then call it as if it were a function."
   ]
  },
  {
   "cell_type": "code",
   "execution_count": 129,
   "metadata": {},
   "outputs": [
    {
     "name": "stdout",
     "output_type": "stream",
     "text": [
      "tensor(2.3611, grad_fn=<NllLossBackward>)\n"
     ]
    }
   ],
   "source": [
    "model = LogisticRegression(28 * 28, 10)\n",
    "print(loss_fn(model(x_train[:batch_size]), y_train[:batch_size]))"
   ]
  },
  {
   "cell_type": "code",
   "execution_count": 130,
   "metadata": {},
   "outputs": [
    {
     "name": "stdout",
     "output_type": "stream",
     "text": [
      "tensor([9.], grad_fn=<MulBackward0>)\n",
      "tensor(9., grad_fn=<SumBackward0>)\n",
      "tensor([6.])\n",
      "tensor([9.], grad_fn=<MulBackward0>)\n",
      "tensor(9., grad_fn=<SumBackward0>)\n",
      "tensor([12.])\n"
     ]
    }
   ],
   "source": [
    "x = torch.tensor([3.0],requires_grad=True)\n",
    "for t in range(2):\n",
    "    y = x*x\n",
    "    print(y)\n",
    "    y = y.sum()\n",
    "    y.backward()\n",
    "    print(y)\n",
    "    print(x.grad) # x.grad梯度会累加\n",
    "    # x.grad=None\n",
    "    \n"
   ]
  },
  {
   "cell_type": "markdown",
   "metadata": {},
   "source": [
    "We can now take advantage of `.parameters()` and `.zero_grad()` to make our training loop more concise."
   ]
  },
  {
   "cell_type": "code",
   "execution_count": 131,
   "metadata": {},
   "outputs": [],
   "source": [
    "def fit(model, num_epochs):\n",
    "    for epoch in range(num_epochs):\n",
    "        for i in range(int(np.ceil(ntrain / batch_size))): # np.ceil:计算大于等于该值的最小整数\n",
    "            # Get mini-batch\n",
    "            start_i = i * batch_size\n",
    "            end_i = min(start_i + batch_size, ntrain)\n",
    "            xb = x_train[start_i:end_i]\n",
    "            yb = y_train[start_i:end_i]\n",
    "\n",
    "            # Generate predictions\n",
    "            pred = model(xb)\n",
    "\n",
    "            # Calculate loss\n",
    "            loss = loss_fn(pred, yb)\n",
    "\n",
    "            # Update gradients\n",
    "            model.zero_grad()  #grad本来是会被累积，但不需要累积，所以每个batch计算前清空grad https://blog.csdn.net/weixin_39504171/article/details/103179067\n",
    "            loss.backward()\n",
    "\n",
    "            # Optimization step\n",
    "            with torch.no_grad():\n",
    "                for param in model.parameters():\n",
    "                    param -= learning_rate * param.grad"
   ]
  },
  {
   "cell_type": "code",
   "execution_count": 132,
   "metadata": {},
   "outputs": [],
   "source": [
    "fit(model, num_epochs=2)"
   ]
  },
  {
   "cell_type": "markdown",
   "metadata": {},
   "source": [
    "And check if our results are similar to before."
   ]
  },
  {
   "cell_type": "code",
   "execution_count": 133,
   "metadata": {},
   "outputs": [
    {
     "name": "stdout",
     "output_type": "stream",
     "text": [
      "tensor(0.2339, grad_fn=<NllLossBackward>)\n",
      "tensor(0.9531)\n"
     ]
    }
   ],
   "source": [
    "print(loss_fn(model(x_train[:batch_size]), y_train[:batch_size]))\n",
    "print(get_accuracy(model(x_train[:batch_size]), y_train[:batch_size]))"
   ]
  },
  {
   "cell_type": "markdown",
   "metadata": {},
   "source": [
    "# nn.Linear"
   ]
  },
  {
   "cell_type": "markdown",
   "metadata": {},
   "source": [
    "Instead of manually defining and initializing the affine layer, we can instead use the PyTorch class `nn.Linear`. PyTorch provides a wide range of predefined layers to simplify our code (and make it faster). On GitHub you will find layers for pretty much anything you might want to do."
   ]
  },
  {
   "cell_type": "code",
   "execution_count": 134,
   "metadata": {},
   "outputs": [],
   "source": [
    "class LogisticRegression(nn.Module):\n",
    "    def __init__(self, num_features, num_classes):\n",
    "        super().__init__()\n",
    "        self.lin = nn.Linear(num_features, num_classes)  # here\n",
    "        \n",
    "    def forward(self, input):\n",
    "        return self.lin(input)"
   ]
  },
  {
   "cell_type": "markdown",
   "metadata": {},
   "source": [
    "To control weight initialization we must define a function and apply it to the model with `.apply(_)`."
   ]
  },
  {
   "cell_type": "code",
   "execution_count": 135,
   "metadata": {},
   "outputs": [],
   "source": [
    "def initialize_weight(module):\n",
    "    if isinstance(module, (nn.Linear, nn.Conv2d)):  #isinstance:判断module是否为括号中的类型\n",
    "        nn.init.xavier_normal_(module.weight)"
   ]
  },
  {
   "cell_type": "markdown",
   "metadata": {},
   "source": [
    "Now let's check if we still get the same results as before."
   ]
  },
  {
   "cell_type": "code",
   "execution_count": 136,
   "metadata": {},
   "outputs": [
    {
     "name": "stdout",
     "output_type": "stream",
     "text": [
      "tensor(0.2243, grad_fn=<NllLossBackward>)\n",
      "tensor(0.9531)\n"
     ]
    }
   ],
   "source": [
    "model = LogisticRegression(28 * 28, 10)\n",
    "model.apply(initialize_weight)  #nn.Module.apply:将module传给指定的function运行一遍\n",
    "\n",
    "fit(model, num_epochs=2)\n",
    "\n",
    "print(loss_fn(model(x_train[:batch_size]), y_train[:batch_size]))\n",
    "print(get_accuracy(model(x_train[:batch_size]), y_train[:batch_size]))"
   ]
  },
  {
   "cell_type": "markdown",
   "metadata": {},
   "source": [
    "# torch.optim"
   ]
  },
  {
   "cell_type": "markdown",
   "metadata": {},
   "source": [
    "`torch.optim` provides various optimization algorithms. Here we will continue to use simple `SGD`, but you could just as easily switch to Adam or AMSgrad. Optimizers provide `.step()` and `.zero_grad()` methods, which allows us to make the last block in our `fit` function more concise."
   ]
  },
  {
   "cell_type": "code",
   "execution_count": 137,
   "metadata": {},
   "outputs": [],
   "source": [
    "optimizer = torch.optim.SGD(model.parameters(), lr=learning_rate)"
   ]
  },
  {
   "cell_type": "code",
   "execution_count": 138,
   "metadata": {},
   "outputs": [],
   "source": [
    "def fit(model, optimizer, num_epochs):\n",
    "    for epoch in range(num_epochs):\n",
    "        for i in range(int(np.ceil(ntrain / batch_size))):\n",
    "            # Get mini-batch\n",
    "            start_i = i * batch_size\n",
    "            end_i = min(start_i + batch_size, ntrain)\n",
    "            xb = x_train[start_i:end_i]\n",
    "            yb = y_train[start_i:end_i]\n",
    "\n",
    "            # Generate predictions\n",
    "            pred = model(xb)\n",
    "\n",
    "            # Calculate loss\n",
    "            loss = loss_fn(pred, yb)\n",
    "\n",
    "            # Update gradients\n",
    "            optimizer.zero_grad()  # here\n",
    "            loss.backward()\n",
    "\n",
    "            # Optimization step\n",
    "            optimizer.step()       # and here"
   ]
  },
  {
   "cell_type": "code",
   "execution_count": 139,
   "metadata": {},
   "outputs": [],
   "source": [
    "fit(model, optimizer, num_epochs=2)"
   ]
  },
  {
   "cell_type": "code",
   "execution_count": 140,
   "metadata": {},
   "outputs": [
    {
     "name": "stdout",
     "output_type": "stream",
     "text": [
      "tensor(0.1914, grad_fn=<NllLossBackward>)\n",
      "tensor(0.9531)\n"
     ]
    }
   ],
   "source": [
    "print(loss_fn(model(x_train[:batch_size]), y_train[:batch_size]))\n",
    "print(get_accuracy(model(x_train[:batch_size]), y_train[:batch_size]))"
   ]
  },
  {
   "cell_type": "markdown",
   "metadata": {},
   "source": [
    "# Dataset\n",
    "PyTorch also provides an abstract Dataset class for easier handling of various data. You can subclass this just like we subclassed `nn.Module`. A Dataset only needs to provide a `__len__` (which is called by Python's `len` function) and a `__getitem__` function for indexing the dataset.\n",
    "\n",
    "`TensorDataset` provides an easy way of converting tensors to datasets. This will make our data loading more concise, since we can handle both `x_train` and `y_train` simultaneously."
   ]
  },
  {
   "cell_type": "code",
   "execution_count": 141,
   "metadata": {},
   "outputs": [],
   "source": [
    "from torch.utils.data import TensorDataset\n",
    "\n",
    "train_set = TensorDataset(x_train, y_train)"
   ]
  },
  {
   "cell_type": "code",
   "execution_count": 142,
   "metadata": {},
   "outputs": [],
   "source": [
    "def fit(model, optimizer, train_set, num_epochs):\n",
    "    for epoch in range(num_epochs):\n",
    "        for i in range(int(np.ceil(ntrain / batch_size))):\n",
    "            # Get mini-batch\n",
    "            start_i = i * batch_size\n",
    "            end_i = min(start_i + batch_size, ntrain)\n",
    "            xb, yb = train_set[start_i:end_i]   # here\n",
    "\n",
    "            # Generate predictions\n",
    "            pred = model(xb)\n",
    "\n",
    "            # Calculate loss\n",
    "            loss = loss_fn(pred, yb)\n",
    "\n",
    "            # Update gradients\n",
    "            optimizer.zero_grad()\n",
    "            loss.backward()\n",
    "\n",
    "            # Optimization step\n",
    "            optimizer.step()"
   ]
  },
  {
   "cell_type": "code",
   "execution_count": 143,
   "metadata": {},
   "outputs": [
    {
     "name": "stdout",
     "output_type": "stream",
     "text": [
      "tensor(0.2307, grad_fn=<NllLossBackward>)\n",
      "tensor(0.9531)\n"
     ]
    }
   ],
   "source": [
    "model = LogisticRegression(28 * 28, 10)\n",
    "model.apply(initialize_weight)\n",
    "optimizer = torch.optim.SGD(model.parameters(), lr=learning_rate)\n",
    "\n",
    "fit(model, optimizer, train_set, num_epochs=2)\n",
    "\n",
    "print(loss_fn(model(x_train[:batch_size]), y_train[:batch_size]))\n",
    "print(get_accuracy(model(x_train[:batch_size]), y_train[:batch_size]))"
   ]
  },
  {
   "cell_type": "markdown",
   "metadata": {},
   "source": [
    "# DataLoader"
   ]
  },
  {
   "cell_type": "markdown",
   "metadata": {},
   "source": [
    "A `DataLoader` automatically generates mini-batches for your training loop. It can run multiple workers in parallel and provides useful functionality such as data shuffling. You can create a `DataLoader` for any `Dataset`."
   ]
  },
  {
   "cell_type": "code",
   "execution_count": 144,
   "metadata": {},
   "outputs": [],
   "source": [
    "from torch.utils.data import DataLoader\n",
    "\n",
    "train_loader = DataLoader(train_set, batch_size=batch_size)"
   ]
  },
  {
   "cell_type": "markdown",
   "metadata": {},
   "source": [
    "Using the DataLoader makes our training loop a lot cleaner:"
   ]
  },
  {
   "cell_type": "code",
   "execution_count": 145,
   "metadata": {},
   "outputs": [],
   "source": [
    "def fit(model, optimizer, train_loader, num_epochs):\n",
    "    for epoch in range(num_epochs):\n",
    "        for xb, yb in train_loader:  #here, batch is automatically generated\n",
    "                    \n",
    "            # Generate predictions\n",
    "            pred = model(xb)\n",
    "\n",
    "            # Calculate loss\n",
    "            loss = loss_fn(pred, yb)\n",
    "\n",
    "            # Update gradients\n",
    "            optimizer.zero_grad()\n",
    "            loss.backward()\n",
    "\n",
    "            # Optimization step\n",
    "            optimizer.step()\n"
   ]
  },
  {
   "cell_type": "code",
   "execution_count": 146,
   "metadata": {},
   "outputs": [
    {
     "name": "stdout",
     "output_type": "stream",
     "text": [
      "tensor(0.2306, grad_fn=<NllLossBackward>)\n",
      "tensor(0.9375)\n"
     ]
    }
   ],
   "source": [
    "model = LogisticRegression(28 * 28, 10)\n",
    "model.apply(initialize_weight)\n",
    "optimizer = torch.optim.SGD(model.parameters(), lr=learning_rate)\n",
    "\n",
    "fit(model, optimizer, train_loader, num_epochs=2)\n",
    "\n",
    "print(loss_fn(model(x_train[:batch_size]), y_train[:batch_size]))\n",
    "print(get_accuracy(model(x_train[:batch_size]), y_train[:batch_size]))"
   ]
  },
  {
   "cell_type": "markdown",
   "metadata": {},
   "source": [
    "# Validation\n",
    "\n",
    "Now that we have a training loop we can go ahead and do some real work. To avoid overfitting, enable early stopping and have some information for model development we always need a validation set.\n",
    "\n",
    "Since the validation set does not need backpropagation we can use 2x larger batches for it. Furthermore, we should shuffle our training data to avoid correlation between batches. This is not necessary (and would waste computation time) for the validation set."
   ]
  },
  {
   "cell_type": "code",
   "execution_count": 147,
   "metadata": {},
   "outputs": [],
   "source": [
    "train_set = TensorDataset(x_train, y_train)\n",
    "val_set = TensorDataset(x_val, y_val)\n",
    "\n",
    "dataloaders = {}\n",
    "dataloaders['train'] = DataLoader(train_set, batch_size=batch_size, shuffle=True)\n",
    "dataloaders['val'] = DataLoader(val_set, batch_size=2 * batch_size)"
   ]
  },
  {
   "cell_type": "markdown",
   "metadata": {},
   "source": [
    "Note that you need to call `model.train()` before training and `model.eval()` before evaluation (inference), since some layers like dropout and batch normalization work differently in each mode."
   ]
  },
  {
   "cell_type": "code",
   "execution_count": 148,
   "metadata": {},
   "outputs": [],
   "source": [
    "def fit(model, optimizer, dataloaders, num_epochs):\n",
    "    for epoch in range(num_epochs):\n",
    "        \n",
    "        # Training\n",
    "        model.train()\n",
    "        print(model.train())\n",
    "        for xb, yb in dataloaders['train']:\n",
    "            pred = model(xb)\n",
    "            loss = loss_fn(pred, yb)\n",
    "\n",
    "            optimizer.zero_grad()\n",
    "            loss.backward()\n",
    "            optimizer.step()\n",
    "        \n",
    "        # Evaluation\n",
    "        model.eval()\n",
    "        print(model.eval())\n",
    "        loss = 0\n",
    "        for xb, yb in dataloaders['val']:\n",
    "            pred = model(xb)\n",
    "            loss += loss_fn(pred, yb).sum()\n",
    "        avg_loss = loss / len(dataloaders['val'])\n",
    "            \n",
    "        print(f\"Epoch {epoch}: {avg_loss:.3f}\")"
   ]
  },
  {
   "cell_type": "code",
   "execution_count": 149,
   "metadata": {},
   "outputs": [
    {
     "name": "stdout",
     "output_type": "stream",
     "text": [
      "LogisticRegression(\n",
      "  (lin): Linear(in_features=784, out_features=10, bias=True)\n",
      ")\n",
      "LogisticRegression(\n",
      "  (lin): Linear(in_features=784, out_features=10, bias=True)\n",
      ")\n",
      "Epoch 0: 0.307\n",
      "LogisticRegression(\n",
      "  (lin): Linear(in_features=784, out_features=10, bias=True)\n",
      ")\n",
      "LogisticRegression(\n",
      "  (lin): Linear(in_features=784, out_features=10, bias=True)\n",
      ")\n",
      "Epoch 1: 0.291\n"
     ]
    }
   ],
   "source": [
    "model = LogisticRegression(28 * 28, 10)\n",
    "model.apply(initialize_weight)\n",
    "optimizer = torch.optim.SGD(model.parameters(), lr=learning_rate)\n",
    "\n",
    "fit(model, optimizer, dataloaders, num_epochs=2)"
   ]
  },
  {
   "cell_type": "markdown",
   "metadata": {},
   "source": [
    "# CNN\n",
    "Using simple logistic regression (or an MLP) for images basically ignores the data's underlying structure. We can do much better than this by switching to a CNN. Since our training loop does not assume anything about the model we can train a CNN without any changes.\n",
    "\n",
    "Our CNN will consist of 3 convolutional layers, each using PyTorch's predefined `Conv2d` layer. At the End, we perform average pooling. Since `Conv2d` assumes a shape of `[batch_size, num_channels, height, width]` we need to reshape our input inside the model via `.view(_)`.  https://www.cnblogs.com/siyuan1998/p/10809646.html"
   ]
  },
  {
   "cell_type": "code",
   "execution_count": 158,
   "metadata": {},
   "outputs": [],
   "source": [
    "class CNN(nn.Module):\n",
    "    def __init__(self, num_channels, num_classes):\n",
    "        super().__init__()\n",
    "        self.conv1 = nn.Conv2d(1, num_channels, kernel_size=3, stride=2, padding=1)\n",
    "        # 参数含义：输入通道数，输出通道数，卷积核大小，步幅，padding\n",
    "        # 输入通道数取决于图片类型，RGB就是3，黑白就是1\n",
    "        # 输出通道数取决于卷积核的数量。此时的 out_channels 也会作为下一次卷积时的卷积核的 in_channels\n",
    "        # https://blog.csdn.net/qq_34107425/article/details/104117670\n",
    "        self.conv2 = nn.Conv2d(num_channels, num_channels, kernel_size=3, stride=2, padding=1)\n",
    "        self.conv3 = nn.Conv2d(num_channels, num_classes, kernel_size=3, stride=2, padding=1)\n",
    "\n",
    "    def forward(self, xb):\n",
    "        #print(xb.shape)\n",
    "        start = time.clock()\n",
    "        xb = xb.view(-1, 1, 28, 28)  # view:将数据转化成括号中对应的维度，-1表示自动判断\n",
    "        # 这里分别表示：batch中图片个数，图片通道数，图片高度，图片宽度\n",
    "        t1 = time.clock()\n",
    "        xb = F.relu(self.conv1(xb))\n",
    "        t2 = time.clock()\n",
    "        xb = F.relu(self.conv2(xb))\n",
    "        xb = F.relu(self.conv3(xb))\n",
    "        xb = F.avg_pool2d(xb, 4)\n",
    "        print(\"t1: \", t1-start)\n",
    "        print(\"t2: \", t2-t1)\n",
    "        return xb.view(-1, xb.size(1))"
   ]
  },
  {
   "cell_type": "markdown",
   "metadata": {},
   "source": [
    "We will now furthermore use momentum in our optimizer to speed up training."
   ]
  },
  {
   "cell_type": "code",
   "execution_count": 159,
   "metadata": {},
   "outputs": [
    {
     "name": "stdout",
     "output_type": "stream",
     "text": [
      "CNN(\n",
      "  (conv1): Conv2d(1, 16, kernel_size=(3, 3), stride=(2, 2), padding=(1, 1))\n",
      "  (conv2): Conv2d(16, 16, kernel_size=(3, 3), stride=(2, 2), padding=(1, 1))\n",
      "  (conv3): Conv2d(16, 10, kernel_size=(3, 3), stride=(2, 2), padding=(1, 1))\n",
      ")\n",
      "t1:  0.0004480000000057771\n",
      "t2:  0.0023429999999962092\n",
      "t1:  2.600000001962144e-05\n",
      "t2:  0.0010499999999922238\n",
      "t1:  1.900000000887303e-05\n",
      "t2:  0.0005539999999939482\n",
      "t1:  1.8000000011397788e-05\n",
      "t2:  0.0006379999999808206\n",
      "t1:  1.900000000887303e-05\n",
      "t2:  0.0005919999999832726\n",
      "t1:  1.899999998045132e-05\n",
      "t2:  0.0005760000000236687\n",
      "t1:  3.299999997352643e-05\n",
      "t2:  0.001527000000010048\n",
      "t1:  1.900000000887303e-05\n",
      "t2:  0.0006740000000036162\n",
      "t1:  1.6000000016447302e-05\n",
      "t2:  0.0005409999999983484\n",
      "t1:  3.399999999942338e-05\n",
      "t2:  0.0011609999999961929\n",
      "t1:  1.9999999977926564e-05\n",
      "t2:  0.0006790000000194141\n",
      "t1:  2.3999999996249244e-05\n",
      "t2:  0.0008799999999951069\n",
      "t1:  1.9999999977926564e-05\n",
      "t2:  0.0006800000000168893\n",
      "t1:  2.1000000003823516e-05\n",
      "t2:  0.0007909999999924366\n",
      "t1:  1.8000000011397788e-05\n",
      "t2:  0.000660000000010541\n",
      "t1:  1.900000000887303e-05\n",
      "t2:  0.0006529999999997926\n",
      "t1:  2.2999999998774e-05\n",
      "t2:  0.0008080000000063592\n",
      "t1:  2.200000000129876e-05\n",
      "t2:  0.0008049999999855117\n",
      "t1:  2.2999999998774e-05\n",
      "t2:  0.0007950000000107593\n"
     ]
    },
    {
     "name": "stderr",
     "output_type": "stream",
     "text": [
      "/Users/hpj123/opt/anaconda3/envs/ml/lib/python3.7/site-packages/ipykernel_launcher.py:14: DeprecationWarning: time.clock has been deprecated in Python 3.3 and will be removed from Python 3.8: use time.perf_counter or time.process_time instead\n",
      "  \n",
      "/Users/hpj123/opt/anaconda3/envs/ml/lib/python3.7/site-packages/ipykernel_launcher.py:17: DeprecationWarning: time.clock has been deprecated in Python 3.3 and will be removed from Python 3.8: use time.perf_counter or time.process_time instead\n",
      "/Users/hpj123/opt/anaconda3/envs/ml/lib/python3.7/site-packages/ipykernel_launcher.py:19: DeprecationWarning: time.clock has been deprecated in Python 3.3 and will be removed from Python 3.8: use time.perf_counter or time.process_time instead\n"
     ]
    },
    {
     "name": "stdout",
     "output_type": "stream",
     "text": [
      "t1:  1.900000000887303e-05\n",
      "t2:  0.0007090000000005148\n",
      "t1:  1.900000000887303e-05\n",
      "t2:  0.001197999999988042\n",
      "t1:  1.900000000887303e-05\n",
      "t2:  0.0007150000000137879\n",
      "t1:  2.6999999988674972e-05\n",
      "t2:  0.0009970000000123491\n",
      "t1:  3.000000000952241e-05\n",
      "t2:  0.0007469999999898391\n",
      "t1:  2.9000000012047167e-05\n",
      "t2:  0.0008469999999931588\n",
      "t1:  2.599999999119973e-05\n",
      "t2:  0.0014600000000086766\n",
      "t1:  4.200000000764703e-05\n",
      "t2:  0.0010120000000028995\n",
      "t1:  3.500000002532033e-05\n",
      "t2:  0.001050999999989699\n",
      "t1:  3.000000000952241e-05\n",
      "t2:  0.0010159999999928004\n",
      "t1:  2.4999999993724487e-05\n",
      "t2:  0.0010890000000074451\n",
      "t1:  2.200000000129876e-05\n",
      "t2:  0.0007809999999892625\n",
      "t1:  2.0000000006348273e-05\n",
      "t2:  0.0006799999999884676\n",
      "t1:  1.6000000016447302e-05\n",
      "t2:  0.000552999999996473\n",
      "t1:  1.8000000011397788e-05\n",
      "t2:  0.000602999999983922\n",
      "t1:  1.9999999977926564e-05\n",
      "t2:  0.0007220000000245363\n",
      "t1:  1.7000000013922545e-05\n",
      "t2:  0.0005510000000015225\n",
      "t1:  2.2999999998774e-05\n",
      "t2:  0.0008390000000133568\n",
      "t1:  1.6999999985500835e-05\n",
      "t2:  0.0005620000000021719\n",
      "t1:  1.8000000011397788e-05\n",
      "t2:  0.0005730000000028213\n",
      "t1:  1.8000000011397788e-05\n",
      "t2:  0.0006119999999896208\n",
      "t1:  1.900000000887303e-05\n",
      "t2:  0.0006799999999884676\n",
      "t1:  2.2999999998774e-05\n",
      "t2:  0.0011779999999816937\n",
      "t1:  2.1000000003823516e-05\n",
      "t2:  0.000713999999987891\n",
      "t1:  2.200000000129876e-05\n",
      "t2:  0.0008739999999818338\n",
      "t1:  2.1000000003823516e-05\n",
      "t2:  0.000713999999987891\n",
      "t1:  2.5000000022146196e-05\n",
      "t2:  0.0010659999999802494\n",
      "t1:  1.7999999982976078e-05\n",
      "t2:  0.0005760000000236687\n",
      "t1:  1.900000000887303e-05\n",
      "t2:  0.0006300000000010186\n",
      "t1:  1.899999998045132e-05\n",
      "t2:  0.0005940000000066448\n",
      "t1:  2.0999999975401806e-05\n",
      "t2:  0.0006250000000136424\n",
      "t1:  1.900000000887303e-05\n",
      "t2:  0.0006860000000017408\n",
      "t1:  2.0999999975401806e-05\n",
      "t2:  0.0007650000000012369\n",
      "t1:  3.799999998932435e-05\n",
      "t2:  0.0014510000000029777\n",
      "t1:  2.1000000003823516e-05\n",
      "t2:  0.0007389999999816155\n",
      "t1:  2.0999999975401806e-05\n",
      "t2:  0.001176000000015165\n",
      "t1:  2.0000000006348273e-05\n",
      "t2:  0.00070999999999799\n",
      "t1:  3.2000000004472895e-05\n",
      "t2:  0.001563000000004422\n",
      "t1:  5.5000000003246896e-05\n",
      "t2:  0.00178500000001236\n",
      "t1:  2.199999997287705e-05\n",
      "t2:  0.0018680000000017571\n",
      "t1:  1.900000000887303e-05\n",
      "t2:  0.0007090000000005148\n",
      "t1:  2.1000000003823516e-05\n",
      "t2:  0.0007510000000081618\n",
      "t1:  2.600000001962144e-05\n",
      "t2:  0.0013730000000009568\n",
      "t1:  2.99999999811007e-05\n",
      "t2:  0.0022850000000005366\n",
      "t1:  1.899999998045132e-05\n",
      "t2:  0.0015600000000119962\n",
      "t1:  2.6999999988674972e-05\n",
      "t2:  0.0008740000000102555\n",
      "t1:  1.900000000887303e-05\n",
      "t2:  0.0007679999999936626\n",
      "t1:  2.600000001962144e-05\n",
      "t2:  0.0011690000000044165\n",
      "t1:  2.4999999993724487e-05\n",
      "t2:  0.0011299999999891952\n",
      "t1:  2.200000000129876e-05\n",
      "t2:  0.001949999999993679\n",
      "t1:  3.100000000699765e-05\n",
      "t2:  0.0013799999999832835\n",
      "t1:  2.3999999996249244e-05\n",
      "t2:  0.0008459999999956835\n",
      "t1:  2.2999999998774e-05\n",
      "t2:  0.0011130000000036944\n",
      "t1:  4.2999999976700565e-05\n",
      "t2:  0.0014340000000174769\n",
      "t1:  2.599999999119973e-05\n",
      "t2:  0.001605000000012069\n",
      "t1:  3.399999999942338e-05\n",
      "t2:  0.0014010000000155287\n",
      "t1:  2.3999999996249244e-05\n",
      "t2:  0.0007840000000101099\n",
      "t1:  3.000000000952241e-05\n",
      "t2:  0.0021079999999926713\n",
      "t1:  4.899999998997373e-05\n",
      "t2:  0.0016140000000177679\n",
      "t1:  3.000000000952241e-05\n",
      "t2:  0.0009809999999959018\n",
      "t1:  2.200000000129876e-05\n",
      "t2:  0.000671999999980244\n",
      "t1:  1.8000000011397788e-05\n",
      "t2:  0.0006149999999820466\n",
      "t1:  1.900000000887303e-05\n",
      "t2:  0.0007300000000043383\n",
      "t1:  2.0000000006348273e-05\n",
      "t2:  0.000732999999996764\n",
      "t1:  1.7000000013922545e-05\n",
      "t2:  0.0005749999999977717\n",
      "t1:  1.8000000011397788e-05\n",
      "t2:  0.0007379999999841402\n",
      "t1:  1.7000000013922545e-05\n",
      "t2:  0.0005789999999876727\n",
      "t1:  1.6999999985500835e-05\n",
      "t2:  0.0005590000000097461\n",
      "t1:  1.5999999988025593e-05\n",
      "t2:  0.000575999999995247\n",
      "t1:  1.8000000011397788e-05\n",
      "t2:  0.000625999999982696\n",
      "t1:  1.500000001897206e-05\n",
      "t2:  0.0005740000000002965\n",
      "t1:  1.6999999985500835e-05\n",
      "t2:  0.000545000000016671\n",
      "t1:  1.8000000011397788e-05\n",
      "t2:  0.000529999999997699\n",
      "t1:  1.3999999993075107e-05\n",
      "t2:  0.000506999999998925\n",
      "t1:  1.3999999993075107e-05\n",
      "t2:  0.000529999999997699\n",
      "t1:  1.500000001897206e-05\n",
      "t2:  0.00047899999998435305\n",
      "t1:  1.3999999993075107e-05\n",
      "t2:  0.00048100000000772525\n",
      "t1:  1.3999999993075107e-05\n",
      "t2:  0.00046499999999127795\n",
      "t1:  1.8000000011397788e-05\n",
      "t2:  0.0006170000000054188\n",
      "t1:  1.7000000013922545e-05\n",
      "t2:  0.0006429999999966185\n",
      "t1:  1.7999999982976078e-05\n",
      "t2:  0.0006040000000098189\n",
      "t1:  1.7999999982976078e-05\n",
      "t2:  0.0006490000000098917\n",
      "t1:  1.9999999977926564e-05\n",
      "t2:  0.0006199999999978445\n",
      "t1:  2.2999999998774e-05\n",
      "t2:  0.0009760000000085256\n",
      "t1:  1.7000000013922545e-05\n",
      "t2:  0.0005390000000033979\n",
      "t1:  1.5999999988025593e-05\n",
      "t2:  0.0005189999999970496\n",
      "t1:  1.7000000013922545e-05\n",
      "t2:  0.0005319999999926495\n",
      "t1:  1.6999999985500835e-05\n",
      "t2:  0.0005820000000085201\n",
      "t1:  1.6999999985500835e-05\n",
      "t2:  0.0005440000000191958\n",
      "t1:  1.5999999988025593e-05\n",
      "t2:  0.0007170000000087384\n",
      "t1:  1.499999999055035e-05\n",
      "t2:  0.0005519999999989977\n",
      "t1:  1.5999999988025593e-05\n",
      "t2:  0.0006280000000060681\n",
      "t1:  1.7000000013922545e-05\n",
      "t2:  0.0005579999999838492\n",
      "t1:  1.6000000016447302e-05\n",
      "t2:  0.0005239999999844258\n",
      "t1:  1.499999999055035e-05\n",
      "t2:  0.0004950000000008004\n",
      "t1:  1.4000000021496817e-05\n",
      "t2:  0.0004639999999938027\n",
      "t1:  1.500000001897206e-05\n",
      "t2:  0.0004919999999799529\n",
      "t1:  1.499999999055035e-05\n",
      "t2:  0.0005400000000008731\n",
      "t1:  1.500000001897206e-05\n",
      "t2:  0.0004779999999868778\n",
      "t1:  1.4000000021496817e-05\n",
      "t2:  0.0004659999999887532\n",
      "t1:  1.499999999055035e-05\n",
      "t2:  0.00047200000000202635\n",
      "t1:  1.499999999055035e-05\n",
      "t2:  0.00048000000001025\n",
      "t1:  2.2999999998774e-05\n",
      "t2:  0.0008219999999994343\n",
      "t1:  1.8000000011397788e-05\n",
      "t2:  0.0005379999999775009\n",
      "t1:  1.9999999977926564e-05\n",
      "t2:  0.000844000000000733\n",
      "t1:  1.7999999982976078e-05\n",
      "t2:  0.0006490000000098917\n",
      "t1:  1.7000000013922545e-05\n",
      "t2:  0.0007190000000036889\n",
      "t1:  3.8999999986799594e-05\n",
      "t2:  0.0008640000000070813\n",
      "t1:  2.1000000003823516e-05\n",
      "t2:  0.0006929999999840675\n",
      "t1:  1.8000000011397788e-05\n",
      "t2:  0.0005629999999996471\n",
      "t1:  1.900000000887303e-05\n",
      "t2:  0.0005659999999920728\n",
      "t1:  1.899999998045132e-05\n",
      "t2:  0.0005710000000078708\n",
      "t1:  1.7000000013922545e-05\n",
      "t2:  0.000579999999985148\n",
      "t1:  1.8000000011397788e-05\n",
      "t2:  0.0005500000000040473\n",
      "t1:  2.1000000003823516e-05\n",
      "t2:  0.0005969999999990705\n",
      "t1:  1.7999999982976078e-05\n",
      "t2:  0.0005600000000072214\n",
      "t1:  1.7000000013922545e-05\n",
      "t2:  0.000579999999985148\n",
      "t1:  1.7000000013922545e-05\n",
      "t2:  0.0005470000000116215\n",
      "t1:  1.6999999985500835e-05\n",
      "t2:  0.0005270000000052733\n",
      "t1:  1.7999999982976078e-05\n",
      "t2:  0.0005340000000160217\n",
      "t1:  1.8000000011397788e-05\n",
      "t2:  0.0005539999999939482\n",
      "t1:  1.7000000013922545e-05\n",
      "t2:  0.0005899999999883221\n",
      "t1:  1.8000000011397788e-05\n",
      "t2:  0.0005649999999945976\n",
      "t1:  1.8000000011397788e-05\n",
      "t2:  0.0006109999999921456\n",
      "t1:  1.8000000011397788e-05\n",
      "t2:  0.0005609999999762749\n",
      "t1:  1.8000000011397788e-05\n",
      "t2:  0.0006109999999921456\n",
      "t1:  1.8000000011397788e-05\n",
      "t2:  0.0006229999999902702\n",
      "t1:  3.499999999689862e-05\n",
      "t2:  0.0006529999999997926\n",
      "t1:  1.5999999988025593e-05\n",
      "t2:  0.0008349999999950342\n",
      "t1:  1.7999999982976078e-05\n",
      "t2:  0.0007549999999980628\n",
      "t1:  3.8999999986799594e-05\n",
      "t2:  0.000918000000012853\n",
      "t1:  1.8000000011397788e-05\n",
      "t2:  0.0005859999999984211\n",
      "t1:  1.5999999988025593e-05\n",
      "t2:  0.000526000000007798\n",
      "t1:  2.3999999996249244e-05\n",
      "t2:  0.0010479999999972733\n",
      "t1:  1.8000000011397788e-05\n",
      "t2:  0.0005209999999920001\n",
      "t1:  1.499999999055035e-05\n",
      "t2:  0.0005360000000109721\n",
      "t1:  1.3999999993075107e-05\n",
      "t2:  0.000529999999997699\n",
      "t1:  2.0000000006348273e-05\n",
      "t2:  0.0005359999999825504\n",
      "t1:  2.3999999996249244e-05\n",
      "t2:  0.0005439999999907741\n",
      "t1:  1.5999999988025593e-05\n",
      "t2:  0.0005830000000059954\n",
      "t1:  1.499999999055035e-05\n",
      "t2:  0.0005280000000027485\n",
      "t1:  1.3999999993075107e-05\n",
      "t2:  0.0005089999999938755\n",
      "t1:  1.3999999993075107e-05\n",
      "t2:  0.0004900000000134241\n",
      "t1:  1.500000001897206e-05\n",
      "t2:  0.000549000000006572\n",
      "t1:  1.4000000021496817e-05\n",
      "t2:  0.0004659999999887532\n",
      "t1:  1.500000001897206e-05\n",
      "t2:  0.0005009999999856518\n",
      "t1:  1.500000001897206e-05\n",
      "t2:  0.0004969999999957508\n",
      "t1:  1.3999999993075107e-05\n",
      "t2:  0.0005270000000052733\n",
      "t1:  1.499999999055035e-05\n",
      "t2:  0.0005189999999970496\n",
      "t1:  1.1999999998124622e-05\n",
      "t2:  0.0005100000000197724\n",
      "t1:  1.2999999995599865e-05\n",
      "t2:  0.0005079999999964002\n",
      "t1:  1.2999999995599865e-05\n",
      "t2:  0.000545000000016671\n",
      "t1:  1.2999999995599865e-05\n",
      "t2:  0.000506999999998925\n",
      "t1:  1.1999999998124622e-05\n",
      "t2:  0.0005250000000103228\n",
      "t1:  1.3000000024021574e-05\n",
      "t2:  0.0005960000000015953\n"
     ]
    },
    {
     "name": "stdout",
     "output_type": "stream",
     "text": [
      "t1:  1.7000000013922545e-05\n",
      "t2:  0.0007929999999873871\n",
      "t1:  1.499999999055035e-05\n",
      "t2:  0.0005140000000096734\n",
      "t1:  1.7000000013922545e-05\n",
      "t2:  0.0007129999999904157\n",
      "t1:  2.2999999998774e-05\n",
      "t2:  0.0007779999999968368\n",
      "t1:  1.499999999055035e-05\n",
      "t2:  0.000545000000016671\n",
      "t1:  1.899999998045132e-05\n",
      "t2:  0.0005859999999984211\n",
      "t1:  1.8000000011397788e-05\n",
      "t2:  0.0006309999999984939\n",
      "t1:  1.6000000016447302e-05\n",
      "t2:  0.0005579999999838492\n",
      "t1:  1.6000000016447302e-05\n",
      "t2:  0.0005709999999794491\n",
      "t1:  1.5999999988025593e-05\n",
      "t2:  0.0005309999999951742\n",
      "t1:  1.6000000016447302e-05\n",
      "t2:  0.0005219999999894753\n",
      "t1:  1.7000000013922545e-05\n",
      "t2:  0.0005419999999958236\n",
      "t1:  1.499999999055035e-05\n",
      "t2:  0.000572000000005346\n",
      "t1:  1.500000001897206e-05\n",
      "t2:  0.0005189999999970496\n",
      "t1:  1.7999999982976078e-05\n",
      "t2:  0.0006060000000047694\n",
      "t1:  1.8000000011397788e-05\n",
      "t2:  0.000621999999992795\n",
      "t1:  1.8000000011397788e-05\n",
      "t2:  0.0006150000000104683\n",
      "t1:  1.9999999977926564e-05\n",
      "t2:  0.0006110000000205673\n",
      "t1:  2.0000000006348273e-05\n",
      "t2:  0.0005940000000066448\n",
      "t1:  3.100000000699765e-05\n",
      "t2:  0.0007049999999821921\n",
      "t1:  1.8000000011397788e-05\n",
      "t2:  0.0006799999999884676\n",
      "t1:  1.8000000011397788e-05\n",
      "t2:  0.0006840000000067903\n",
      "t1:  1.8000000011397788e-05\n",
      "t2:  0.0006389999999782958\n",
      "t1:  1.8000000011397788e-05\n",
      "t2:  0.000801999999993086\n",
      "t1:  1.7999999982976078e-05\n",
      "t2:  0.0006610000000080163\n",
      "t1:  2.0000000006348273e-05\n",
      "t2:  0.0006740000000036162\n",
      "t1:  1.899999998045132e-05\n",
      "t2:  0.0006490000000098917\n",
      "t1:  1.900000000887303e-05\n",
      "t2:  0.0006699999999852935\n",
      "t1:  1.899999998045132e-05\n",
      "t2:  0.0005740000000002965\n",
      "t1:  1.7000000013922545e-05\n",
      "t2:  0.0005449999999882493\n",
      "t1:  2.200000000129876e-05\n",
      "t2:  0.0011959999999930915\n",
      "t1:  4.6999999995023245e-05\n",
      "t2:  0.0006750000000010914\n",
      "t1:  2.1000000003823516e-05\n",
      "t2:  0.0007059999999796673\n",
      "t1:  1.899999998045132e-05\n",
      "t2:  0.0007170000000087384\n",
      "t1:  1.8000000011397788e-05\n",
      "t2:  0.0007809999999892625\n",
      "t1:  1.900000000887303e-05\n",
      "t2:  0.0007530000000031123\n",
      "t1:  1.900000000887303e-05\n",
      "t2:  0.0007169999999803167\n",
      "t1:  1.6999999985500835e-05\n",
      "t2:  0.0007030000000156633\n",
      "t1:  1.7000000013922545e-05\n",
      "t2:  0.0006060000000047694\n",
      "t1:  1.6000000016447302e-05\n",
      "t2:  0.000556999999986374\n",
      "t1:  1.499999999055035e-05\n",
      "t2:  0.0005300000000261207\n",
      "t1:  1.6000000016447302e-05\n",
      "t2:  0.000552999999996473\n",
      "t1:  1.6000000016447302e-05\n",
      "t2:  0.000529999999997699\n",
      "t1:  1.7000000013922545e-05\n",
      "t2:  0.0004869999999925767\n",
      "t1:  1.7999999982976078e-05\n",
      "t2:  0.0005550000000198452\n",
      "t1:  1.8000000011397788e-05\n",
      "t2:  0.0006979999999998654\n",
      "t1:  1.8000000011397788e-05\n",
      "t2:  0.0005629999999996471\n",
      "t1:  1.500000001897206e-05\n",
      "t2:  0.0005160000000046239\n",
      "t1:  1.500000001897206e-05\n",
      "t2:  0.0004779999999868778\n",
      "t1:  1.2999999995599865e-05\n",
      "t2:  0.0004959999999982756\n",
      "t1:  1.500000001897206e-05\n",
      "t2:  0.00046499999999127795\n",
      "t1:  1.3999999993075107e-05\n",
      "t2:  0.0004980000000216478\n",
      "t1:  1.5999999988025593e-05\n",
      "t2:  0.0005440000000191958\n",
      "t1:  1.6999999985500835e-05\n",
      "t2:  0.000568000000015445\n",
      "t1:  1.899999998045132e-05\n",
      "t2:  0.0005590000000097461\n",
      "t1:  1.899999998045132e-05\n",
      "t2:  0.0006720000000086657\n",
      "t1:  1.6999999985500835e-05\n",
      "t2:  0.0006070000000022446\n",
      "t1:  1.500000001897206e-05\n",
      "t2:  0.000556999999986374\n",
      "t1:  1.7000000013922545e-05\n",
      "t2:  0.0005229999999869506\n",
      "t1:  1.5999999988025593e-05\n",
      "t2:  0.0004950000000008004\n",
      "t1:  1.6000000016447302e-05\n",
      "t2:  0.0005459999999857246\n",
      "t1:  1.5999999988025593e-05\n",
      "t2:  0.0005420000000242453\n",
      "t1:  1.499999999055035e-05\n",
      "t2:  0.0005280000000027485\n",
      "t1:  1.499999999055035e-05\n",
      "t2:  0.0005209999999920001\n",
      "t1:  1.6000000016447302e-05\n",
      "t2:  0.0005559999999888987\n",
      "t1:  1.500000001897206e-05\n",
      "t2:  0.000506999999998925\n",
      "t1:  1.3999999993075107e-05\n",
      "t2:  0.0004950000000008004\n",
      "t1:  1.3000000024021574e-05\n",
      "t2:  0.0004589999999780048\n",
      "t1:  1.3999999993075107e-05\n",
      "t2:  0.000506999999998925\n",
      "t1:  1.499999999055035e-05\n",
      "t2:  0.00046500000001969966\n",
      "t1:  1.499999999055035e-05\n",
      "t2:  0.00047200000000202635\n",
      "t1:  1.499999999055035e-05\n",
      "t2:  0.0004869999999925767\n",
      "t1:  1.499999999055035e-05\n",
      "t2:  0.0006040000000098189\n",
      "t1:  1.499999999055035e-05\n",
      "t2:  0.0005160000000046239\n",
      "t1:  1.6999999985500835e-05\n",
      "t2:  0.0005730000000028213\n",
      "t1:  1.7999999982976078e-05\n",
      "t2:  0.0005380000000059226\n",
      "t1:  1.8000000011397788e-05\n",
      "t2:  0.0005790000000160944\n",
      "t1:  1.8000000011397788e-05\n",
      "t2:  0.0005389999999749762\n",
      "t1:  1.8000000011397788e-05\n",
      "t2:  0.0005250000000103228\n",
      "t1:  1.7999999982976078e-05\n",
      "t2:  0.0006010000000173932\n",
      "t1:  4.400000000259752e-05\n",
      "t2:  0.0011379999999974189\n",
      "t1:  4.0000000012696546e-05\n",
      "t2:  0.0008679999999969823\n",
      "t1:  1.7999999982976078e-05\n",
      "t2:  0.0006270000000085929\n",
      "t1:  2.3999999996249244e-05\n",
      "t2:  0.002100999999981923\n",
      "t1:  3.399999999942338e-05\n",
      "t2:  0.000625999999982696\n",
      "t1:  1.9999999977926564e-05\n",
      "t2:  0.0008940000000166037\n",
      "t1:  1.8000000011397788e-05\n",
      "t2:  0.0006860000000017408\n",
      "t1:  1.8000000011397788e-05\n",
      "t2:  0.0006759999999985666\n",
      "t1:  2.0000000006348273e-05\n",
      "t2:  0.0007640000000037617\n",
      "t1:  1.900000000887303e-05\n",
      "t2:  0.0007420000000024629\n",
      "t1:  2.1000000003823516e-05\n",
      "t2:  0.0006930000000124892\n",
      "t1:  1.900000000887303e-05\n",
      "t2:  0.000641000000001668\n",
      "t1:  1.8000000011397788e-05\n",
      "t2:  0.0006709999999827687\n",
      "t1:  1.900000000887303e-05\n",
      "t2:  0.000759999999985439\n",
      "t1:  1.8000000011397788e-05\n",
      "t2:  0.0006589999999846441\n",
      "t1:  1.5999999988025593e-05\n",
      "t2:  0.0007449999999948886\n",
      "t1:  1.8000000011397788e-05\n",
      "t2:  0.0006209999999953197\n",
      "t1:  4.200000000764703e-05\n",
      "t2:  0.0007699999999886131\n",
      "t1:  2.0000000006348273e-05\n",
      "t2:  0.0006300000000010186\n",
      "t1:  2.0000000006348273e-05\n",
      "t2:  0.0006559999999922184\n",
      "t1:  2.2999999998774e-05\n",
      "t2:  0.0006559999999922184\n",
      "t1:  1.6999999985500835e-05\n",
      "t2:  0.000706000000008089\n",
      "t1:  1.7999999982976078e-05\n",
      "t2:  0.000734000000022661\n",
      "t1:  1.899999998045132e-05\n",
      "t2:  0.0006089999999971951\n",
      "t1:  1.900000000887303e-05\n",
      "t2:  0.000782999999984213\n",
      "t1:  2.599999999119973e-05\n",
      "t2:  0.0011089999999853717\n",
      "t1:  1.7999999982976078e-05\n",
      "t2:  0.0006280000000060681\n",
      "t1:  2.0000000006348273e-05\n",
      "t2:  0.0009349999999983538\n",
      "t1:  1.6999999985500835e-05\n",
      "t2:  0.0006360000000142918\n",
      "t1:  1.500000001897206e-05\n",
      "t2:  0.0005479999999806751\n",
      "t1:  1.499999999055035e-05\n",
      "t2:  0.0005390000000033979\n",
      "t1:  1.6000000016447302e-05\n",
      "t2:  0.0005480000000090968\n",
      "t1:  1.6999999985500835e-05\n",
      "t2:  0.0006050000000072941\n",
      "t1:  1.6000000016447302e-05\n",
      "t2:  0.0005270000000052733\n",
      "t1:  1.900000000887303e-05\n",
      "t2:  0.0005390000000033979\n",
      "t1:  1.899999998045132e-05\n",
      "t2:  0.0005300000000261207\n",
      "t1:  1.7000000013922545e-05\n",
      "t2:  0.0005429999999932988\n",
      "t1:  1.6000000016447302e-05\n",
      "t2:  0.0005549999999914235\n",
      "t1:  1.6999999985500835e-05\n",
      "t2:  0.0005270000000052733\n",
      "t1:  1.7999999982976078e-05\n",
      "t2:  0.0005590000000097461\n",
      "t1:  1.6999999985500835e-05\n",
      "t2:  0.0005649999999945976\n",
      "t1:  1.6000000016447302e-05\n",
      "t2:  0.0005859999999984211\n",
      "t1:  1.7000000013922545e-05\n",
      "t2:  0.0005749999999977717\n",
      "t1:  1.7999999982976078e-05\n",
      "t2:  0.000572000000005346\n",
      "t1:  1.900000000887303e-05\n",
      "t2:  0.0005480000000090968\n",
      "t1:  1.8000000011397788e-05\n",
      "t2:  0.0005500000000040473\n",
      "t1:  2.0999999975401806e-05\n",
      "t2:  0.0005480000000090968\n",
      "t1:  2.200000000129876e-05\n",
      "t2:  0.000552999999996473\n",
      "t1:  1.8000000011397788e-05\n",
      "t2:  0.0006199999999978445\n",
      "t1:  1.7999999982976078e-05\n",
      "t2:  0.0005869999999958964\n",
      "t1:  4.199999997922532e-05\n",
      "t2:  0.0011280000000226664\n",
      "t1:  2.1000000003823516e-05\n",
      "t2:  0.0007230000000220116\n",
      "t1:  1.8000000011397788e-05\n",
      "t2:  0.0006009999999889715\n",
      "t1:  2.1000000003823516e-05\n",
      "t2:  0.0009769999999775791\n",
      "t1:  2.600000001962144e-05\n",
      "t2:  0.0006170000000054188\n",
      "t1:  1.7000000013922545e-05\n",
      "t2:  0.0005909999999857973\n",
      "t1:  1.500000001897206e-05\n",
      "t2:  0.0005400000000008731\n",
      "t1:  1.900000000887303e-05\n",
      "t2:  0.0006060000000047694\n",
      "t1:  1.5999999988025593e-05\n",
      "t2:  0.0005439999999907741\n",
      "t1:  1.5999999988025593e-05\n",
      "t2:  0.0005500000000040473\n",
      "t1:  1.7999999982976078e-05\n",
      "t2:  0.0008190000000070086\n",
      "t1:  1.6000000016447302e-05\n",
      "t2:  0.0005809999999826232\n",
      "t1:  1.5999999988025593e-05\n",
      "t2:  0.000545000000016671\n",
      "t1:  1.7000000013922545e-05\n",
      "t2:  0.0005379999999775009\n",
      "t1:  1.8000000011397788e-05\n",
      "t2:  0.000732999999996764\n",
      "t1:  1.7000000013922545e-05\n",
      "t2:  0.0006669999999928677\n",
      "t1:  1.6999999985500835e-05\n",
      "t2:  0.0006529999999997926\n",
      "t1:  1.7999999982976078e-05\n",
      "t2:  0.0007470000000182608\n",
      "t1:  1.6000000016447302e-05\n",
      "t2:  0.000529999999997699\n",
      "t1:  1.899999998045132e-05\n",
      "t2:  0.0006620000000054915\n",
      "t1:  2.1000000003823516e-05\n",
      "t2:  0.0005940000000066448\n",
      "t1:  1.5999999988025593e-05\n",
      "t2:  0.0006280000000060681\n",
      "t1:  1.7000000013922545e-05\n",
      "t2:  0.0005280000000027485\n"
     ]
    },
    {
     "name": "stdout",
     "output_type": "stream",
     "text": [
      "t1:  1.7999999982976078e-05\n",
      "t2:  0.0006230000000186919\n",
      "t1:  1.7000000013922545e-05\n",
      "t2:  0.0008090000000038344\n",
      "t1:  4.100000001017179e-05\n",
      "t2:  0.0008359999999925094\n",
      "t1:  1.9999999977926564e-05\n",
      "t2:  0.0006250000000136424\n",
      "t1:  1.9999999977926564e-05\n",
      "t2:  0.0006750000000010914\n",
      "t1:  1.899999998045132e-05\n",
      "t2:  0.0007209999999986394\n",
      "t1:  2.2999999998774e-05\n",
      "t2:  0.0005730000000028213\n",
      "t1:  1.7000000013922545e-05\n",
      "t2:  0.000572000000005346\n",
      "t1:  1.8000000011397788e-05\n",
      "t2:  0.0005940000000066448\n",
      "t1:  1.900000000887303e-05\n",
      "t2:  0.0005769999999927222\n",
      "t1:  1.8000000011397788e-05\n",
      "t2:  0.0005500000000040473\n",
      "t1:  1.7999999982976078e-05\n",
      "t2:  0.000568000000015445\n",
      "t1:  1.8000000011397788e-05\n",
      "t2:  0.0005679999999870233\n",
      "t1:  1.6000000016447302e-05\n",
      "t2:  0.0005409999999983484\n",
      "t1:  1.9999999977926564e-05\n",
      "t2:  0.0008470000000215805\n",
      "t1:  1.899999998045132e-05\n",
      "t2:  0.0005810000000110449\n",
      "t1:  1.9999999977926564e-05\n",
      "t2:  0.0006099999999946704\n",
      "t1:  1.6000000016447302e-05\n",
      "t2:  0.0005519999999989977\n",
      "t1:  1.899999998045132e-05\n",
      "t2:  0.0005859999999984211\n",
      "t1:  1.500000001897206e-05\n",
      "t2:  0.0005479999999806751\n",
      "t1:  1.8000000011397788e-05\n",
      "t2:  0.0005329999999901247\n",
      "t1:  1.9999999977926564e-05\n",
      "t2:  0.000641000000001668\n"
     ]
    },
    {
     "ename": "KeyboardInterrupt",
     "evalue": "",
     "output_type": "error",
     "traceback": [
      "\u001b[0;31m---------------------------------------------------------------------------\u001b[0m",
      "\u001b[0;31mKeyboardInterrupt\u001b[0m                         Traceback (most recent call last)",
      "\u001b[0;32m<ipython-input-159-346e7e7c1424>\u001b[0m in \u001b[0;36m<module>\u001b[0;34m\u001b[0m\n\u001b[1;32m      3\u001b[0m \u001b[0moptimizer\u001b[0m \u001b[0;34m=\u001b[0m \u001b[0mtorch\u001b[0m\u001b[0;34m.\u001b[0m\u001b[0moptim\u001b[0m\u001b[0;34m.\u001b[0m\u001b[0mSGD\u001b[0m\u001b[0;34m(\u001b[0m\u001b[0mmodel\u001b[0m\u001b[0;34m.\u001b[0m\u001b[0mparameters\u001b[0m\u001b[0;34m(\u001b[0m\u001b[0;34m)\u001b[0m\u001b[0;34m,\u001b[0m \u001b[0mlr\u001b[0m\u001b[0;34m=\u001b[0m\u001b[0;36m0.1\u001b[0m\u001b[0;34m,\u001b[0m \u001b[0mmomentum\u001b[0m\u001b[0;34m=\u001b[0m\u001b[0;36m0.9\u001b[0m\u001b[0;34m)\u001b[0m\u001b[0;34m\u001b[0m\u001b[0;34m\u001b[0m\u001b[0m\n\u001b[1;32m      4\u001b[0m \u001b[0;34m\u001b[0m\u001b[0m\n\u001b[0;32m----> 5\u001b[0;31m \u001b[0mfit\u001b[0m\u001b[0;34m(\u001b[0m\u001b[0mmodel\u001b[0m\u001b[0;34m,\u001b[0m \u001b[0moptimizer\u001b[0m\u001b[0;34m,\u001b[0m \u001b[0mdataloaders\u001b[0m\u001b[0;34m,\u001b[0m \u001b[0mnum_epochs\u001b[0m\u001b[0;34m=\u001b[0m\u001b[0;36m2\u001b[0m\u001b[0;34m)\u001b[0m\u001b[0;34m\u001b[0m\u001b[0;34m\u001b[0m\u001b[0m\n\u001b[0m",
      "\u001b[0;32m<ipython-input-148-4d7f6b9b692d>\u001b[0m in \u001b[0;36mfit\u001b[0;34m(model, optimizer, dataloaders, num_epochs)\u001b[0m\n\u001b[1;32m     11\u001b[0m             \u001b[0moptimizer\u001b[0m\u001b[0;34m.\u001b[0m\u001b[0mzero_grad\u001b[0m\u001b[0;34m(\u001b[0m\u001b[0;34m)\u001b[0m\u001b[0;34m\u001b[0m\u001b[0;34m\u001b[0m\u001b[0m\n\u001b[1;32m     12\u001b[0m             \u001b[0mloss\u001b[0m\u001b[0;34m.\u001b[0m\u001b[0mbackward\u001b[0m\u001b[0;34m(\u001b[0m\u001b[0;34m)\u001b[0m\u001b[0;34m\u001b[0m\u001b[0;34m\u001b[0m\u001b[0m\n\u001b[0;32m---> 13\u001b[0;31m             \u001b[0moptimizer\u001b[0m\u001b[0;34m.\u001b[0m\u001b[0mstep\u001b[0m\u001b[0;34m(\u001b[0m\u001b[0;34m)\u001b[0m\u001b[0;34m\u001b[0m\u001b[0;34m\u001b[0m\u001b[0m\n\u001b[0m\u001b[1;32m     14\u001b[0m \u001b[0;34m\u001b[0m\u001b[0m\n\u001b[1;32m     15\u001b[0m         \u001b[0;31m# Evaluation\u001b[0m\u001b[0;34m\u001b[0m\u001b[0;34m\u001b[0m\u001b[0;34m\u001b[0m\u001b[0m\n",
      "\u001b[0;32m~/opt/anaconda3/envs/ml/lib/python3.7/site-packages/torch/autograd/grad_mode.py\u001b[0m in \u001b[0;36mdecorate_context\u001b[0;34m(*args, **kwargs)\u001b[0m\n\u001b[1;32m     24\u001b[0m         \u001b[0;32mdef\u001b[0m \u001b[0mdecorate_context\u001b[0m\u001b[0;34m(\u001b[0m\u001b[0;34m*\u001b[0m\u001b[0margs\u001b[0m\u001b[0;34m,\u001b[0m \u001b[0;34m**\u001b[0m\u001b[0mkwargs\u001b[0m\u001b[0;34m)\u001b[0m\u001b[0;34m:\u001b[0m\u001b[0;34m\u001b[0m\u001b[0;34m\u001b[0m\u001b[0m\n\u001b[1;32m     25\u001b[0m             \u001b[0;32mwith\u001b[0m \u001b[0mself\u001b[0m\u001b[0;34m.\u001b[0m\u001b[0m__class__\u001b[0m\u001b[0;34m(\u001b[0m\u001b[0;34m)\u001b[0m\u001b[0;34m:\u001b[0m\u001b[0;34m\u001b[0m\u001b[0;34m\u001b[0m\u001b[0m\n\u001b[0;32m---> 26\u001b[0;31m                 \u001b[0;32mreturn\u001b[0m \u001b[0mfunc\u001b[0m\u001b[0;34m(\u001b[0m\u001b[0;34m*\u001b[0m\u001b[0margs\u001b[0m\u001b[0;34m,\u001b[0m \u001b[0;34m**\u001b[0m\u001b[0mkwargs\u001b[0m\u001b[0;34m)\u001b[0m\u001b[0;34m\u001b[0m\u001b[0;34m\u001b[0m\u001b[0m\n\u001b[0m\u001b[1;32m     27\u001b[0m         \u001b[0;32mreturn\u001b[0m \u001b[0mcast\u001b[0m\u001b[0;34m(\u001b[0m\u001b[0mF\u001b[0m\u001b[0;34m,\u001b[0m \u001b[0mdecorate_context\u001b[0m\u001b[0;34m)\u001b[0m\u001b[0;34m\u001b[0m\u001b[0;34m\u001b[0m\u001b[0m\n\u001b[1;32m     28\u001b[0m \u001b[0;34m\u001b[0m\u001b[0m\n",
      "\u001b[0;32m~/opt/anaconda3/envs/ml/lib/python3.7/site-packages/torch/optim/sgd.py\u001b[0m in \u001b[0;36mstep\u001b[0;34m(self, closure)\u001b[0m\n\u001b[1;32m    104\u001b[0m                     \u001b[0;32melse\u001b[0m\u001b[0;34m:\u001b[0m\u001b[0;34m\u001b[0m\u001b[0;34m\u001b[0m\u001b[0m\n\u001b[1;32m    105\u001b[0m                         \u001b[0mbuf\u001b[0m \u001b[0;34m=\u001b[0m \u001b[0mparam_state\u001b[0m\u001b[0;34m[\u001b[0m\u001b[0;34m'momentum_buffer'\u001b[0m\u001b[0;34m]\u001b[0m\u001b[0;34m\u001b[0m\u001b[0;34m\u001b[0m\u001b[0m\n\u001b[0;32m--> 106\u001b[0;31m                         \u001b[0mbuf\u001b[0m\u001b[0;34m.\u001b[0m\u001b[0mmul_\u001b[0m\u001b[0;34m(\u001b[0m\u001b[0mmomentum\u001b[0m\u001b[0;34m)\u001b[0m\u001b[0;34m.\u001b[0m\u001b[0madd_\u001b[0m\u001b[0;34m(\u001b[0m\u001b[0md_p\u001b[0m\u001b[0;34m,\u001b[0m \u001b[0malpha\u001b[0m\u001b[0;34m=\u001b[0m\u001b[0;36m1\u001b[0m \u001b[0;34m-\u001b[0m \u001b[0mdampening\u001b[0m\u001b[0;34m)\u001b[0m\u001b[0;34m\u001b[0m\u001b[0;34m\u001b[0m\u001b[0m\n\u001b[0m\u001b[1;32m    107\u001b[0m                     \u001b[0;32mif\u001b[0m \u001b[0mnesterov\u001b[0m\u001b[0;34m:\u001b[0m\u001b[0;34m\u001b[0m\u001b[0;34m\u001b[0m\u001b[0m\n\u001b[1;32m    108\u001b[0m                         \u001b[0md_p\u001b[0m \u001b[0;34m=\u001b[0m \u001b[0md_p\u001b[0m\u001b[0;34m.\u001b[0m\u001b[0madd\u001b[0m\u001b[0;34m(\u001b[0m\u001b[0mbuf\u001b[0m\u001b[0;34m,\u001b[0m \u001b[0malpha\u001b[0m\u001b[0;34m=\u001b[0m\u001b[0mmomentum\u001b[0m\u001b[0;34m)\u001b[0m\u001b[0;34m\u001b[0m\u001b[0;34m\u001b[0m\u001b[0m\n",
      "\u001b[0;31mKeyboardInterrupt\u001b[0m: "
     ]
    }
   ],
   "source": [
    "model = CNN(num_channels=16, num_classes=10)\n",
    "model.apply(initialize_weight)\n",
    "optimizer = torch.optim.SGD(model.parameters(), lr=0.1, momentum=0.9)\n",
    "\n",
    "fit(model, optimizer, dataloaders, num_epochs=2)"
   ]
  },
  {
   "cell_type": "markdown",
   "metadata": {},
   "source": [
    "# nn.Sequential"
   ]
  },
  {
   "cell_type": "markdown",
   "metadata": {},
   "source": [
    "PyTorch provides a class `nn.Sequential` for simplifying the definition of modules that only consist of a stack of layers. Since these are exactly the models we have been using so far we will now switch to this interface.\n",
    "\n",
    "Because not all functions are defined as PyTorch layers we will start by defining a module that just converts a function to a layer."
   ]
  },
  {
   "cell_type": "code",
   "execution_count": 75,
   "metadata": {},
   "outputs": [],
   "source": [
    "class Lambda(nn.Module):\n",
    "    def __init__(self, func):\n",
    "        super().__init__()\n",
    "        self.func = func\n",
    "\n",
    "    def forward(self, x):\n",
    "        return self.func(x)"
   ]
  },
  {
   "cell_type": "markdown",
   "metadata": {},
   "source": [
    "We can now define our CNN in a more concise manner. Note that we now use `nn.AdaptiveAvgPool2d`, which allows us to specify the size of the output tensor instead of the input tensor."
   ]
  },
  {
   "cell_type": "code",
   "execution_count": 86,
   "metadata": {},
   "outputs": [
    {
     "name": "stdout",
     "output_type": "stream",
     "text": [
      "Sequential(\n",
      "  (0): Lambda()\n",
      "  (1): Conv2d(1, 16, kernel_size=(3, 3), stride=(2, 2), padding=(1, 1))\n",
      "  (2): ReLU()\n",
      "  (3): Conv2d(16, 16, kernel_size=(3, 3), stride=(2, 2), padding=(1, 1))\n",
      "  (4): ReLU()\n",
      "  (5): Conv2d(16, 10, kernel_size=(3, 3), stride=(2, 2), padding=(1, 1))\n",
      "  (6): ReLU()\n",
      "  (7): AdaptiveAvgPool2d(output_size=1)\n",
      "  (8): Lambda()\n",
      ")\n"
     ]
    }
   ],
   "source": [
    "model = nn.Sequential(\n",
    "    Lambda(lambda x: x.view(-1, 1, 28, 28)),\n",
    "    nn.Conv2d(1, 16, kernel_size=3, stride=2, padding=1),\n",
    "    nn.ReLU(),\n",
    "    nn.Conv2d(16, 16, kernel_size=3, stride=2, padding=1),\n",
    "    nn.ReLU(),\n",
    "    nn.Conv2d(16, 10, kernel_size=3, stride=2, padding=1),\n",
    "    nn.ReLU(),\n",
    "    nn.AdaptiveAvgPool2d(1), # 参数是output_size，可以是数组表示输出的高和宽，也可是int表示输出为方形，或者none表示和input_size相同\n",
    "    Lambda(lambda x: x.view(x.size(0), -1)),\n",
    ")\n",
    "print(model)"
   ]
  },
  {
   "cell_type": "code",
   "execution_count": 77,
   "metadata": {},
   "outputs": [
    {
     "name": "stdout",
     "output_type": "stream",
     "text": [
      "Epoch 0: 0.316\n",
      "Epoch 1: 0.246\n"
     ]
    }
   ],
   "source": [
    "model.apply(initialize_weight)\n",
    "optimizer = torch.optim.SGD(model.parameters(), lr=0.1, momentum=0.9)\n",
    "\n",
    "fit(model, optimizer, dataloaders, num_epochs=2)"
   ]
  },
  {
   "cell_type": "markdown",
   "metadata": {},
   "source": [
    "# GPUs"
   ]
  },
  {
   "cell_type": "markdown",
   "metadata": {},
   "source": [
    "PyTorch can run significantly faster on a GPU than on a CPU, so you should always try to leverage that hardware. To do so, you need to move both your model and your data to the device.\n",
    "\n",
    "So let's first check if you have a GPU and choose the appropriate device."
   ]
  },
  {
   "cell_type": "code",
   "execution_count": 78,
   "metadata": {},
   "outputs": [
    {
     "name": "stdout",
     "output_type": "stream",
     "text": [
      "False\n"
     ]
    }
   ],
   "source": [
    "print(torch.cuda.is_available())\n",
    "device = torch.device('cuda') if torch.cuda.is_available() else torch.device('cpu')"
   ]
  },
  {
   "cell_type": "markdown",
   "metadata": {},
   "source": [
    "Next, we move our model to the device."
   ]
  },
  {
   "cell_type": "code",
   "execution_count": 41,
   "metadata": {},
   "outputs": [],
   "source": [
    "model.to(device);"
   ]
  },
  {
   "cell_type": "markdown",
   "metadata": {},
   "source": [
    "Then, we redefine the DataLoader to pin the memory. This is a trick that will accelerate moving data between CPU and GPU."
   ]
  },
  {
   "cell_type": "code",
   "execution_count": 42,
   "metadata": {},
   "outputs": [],
   "source": [
    "dataloaders = {}\n",
    "dataloaders['train'] = DataLoader(train_set, batch_size=batch_size, shuffle=True, pin_memory=True)\n",
    "dataloaders['val'] = DataLoader(val_set, batch_size=2 * batch_size, pin_memory=True)"
   ]
  },
  {
   "cell_type": "markdown",
   "metadata": {},
   "source": [
    "Finally, we need to slightly change our training loop to send each batch to the device first."
   ]
  },
  {
   "cell_type": "code",
   "execution_count": 43,
   "metadata": {},
   "outputs": [],
   "source": [
    "def fit(model, optimizer, dataloaders, num_epochs):\n",
    "    for epoch in range(num_epochs):\n",
    "        \n",
    "        # Training\n",
    "        model.train()\n",
    "        for xb, yb in dataloaders['train']:\n",
    "            xb, yb = xb.to(device), yb.to(device)\n",
    "            \n",
    "            pred = model(xb)\n",
    "            loss = loss_fn(pred, yb)\n",
    "\n",
    "            optimizer.zero_grad()\n",
    "            loss.backward()\n",
    "            optimizer.step()\n",
    "        \n",
    "        # Evaluation\n",
    "        model.eval()\n",
    "        loss = 0\n",
    "        for xb, yb in dataloaders['val']:\n",
    "            xb, yb = xb.to(device), yb.to(device)\n",
    "            \n",
    "            pred = model(xb)\n",
    "            loss += loss_fn(pred, yb).sum()\n",
    "            \n",
    "        avg_loss = loss / len(dataloaders['val'])\n",
    "            \n",
    "        print(f\"Epoch {epoch}: {avg_loss:.3f}\")"
   ]
  },
  {
   "cell_type": "markdown",
   "metadata": {},
   "source": [
    "And now we can run our CNN on the GPU!"
   ]
  },
  {
   "cell_type": "code",
   "execution_count": 44,
   "metadata": {},
   "outputs": [
    {
     "name": "stdout",
     "output_type": "stream",
     "text": [
      "Epoch 0: 0.466\n",
      "Epoch 1: 0.288\n"
     ]
    }
   ],
   "source": [
    "model.apply(initialize_weight)\n",
    "optimizer = torch.optim.SGD(model.parameters(), lr=0.1, momentum=0.9)\n",
    "\n",
    "fit(model, optimizer, dataloaders, num_epochs=2)"
   ]
  },
  {
   "cell_type": "markdown",
   "metadata": {},
   "source": [
    "# Summary\n",
    "Great, so now we have a concise, but general training loop and know how to quickly define new models! Now let us sum up what we have learned during this journey:\n",
    "- `torch.tensor`: PyTorch tensors work like Numpy arrays, but can remember gradients and be sent to the GPU.\n",
    "- `torch.nn`\n",
    "    - `torch.nn.functional`: Provides various useful functions (non stateful) for training neural networks, e.g. activation and loss functions.\n",
    "    - `nn.Module`: Subclass from this to create a callable that acts like a function, but can remember state. It knows what `Parameter`s and submodules it contains and provides various functionality based on that.\n",
    "    - `nn.Parameter`: Wraps a tensor and tells the containing Module that it needs updating during backpropagation.\n",
    "    - `torch.nn`: Many useful layers are already implemented in this library, e.g. `nn.Linear` or `nn.Conv2d`.\n",
    "    - `nn.Sequential`: Provides an easy way of defining purely stacked modules.\n",
    "- `torch.optim`: Optimizers such as `SGD` or `Adam`, which let you easily update and train the `Parameter`s inside the passed model.\n",
    "- `Dataset`: Interface for data using only the `__len__` and `__getitem__` functions. Tensors can be converted into a `Dataset` by using `TensorDataset`.\n",
    "- `DataLoader`: Takes any `Dataset` and provides an iterator for returning mini-batches with various advanced functionality.\n",
    "- `GPU`: To use your GPU you need to move your model and each mini-batch to your GPU using `.to(device)`."
   ]
  }
 ],
 "metadata": {
  "kernelspec": {
   "display_name": "Python 3",
   "language": "python",
   "name": "python3"
  },
  "language_info": {
   "codemirror_mode": {
    "name": "ipython",
    "version": 3
   },
   "file_extension": ".py",
   "mimetype": "text/x-python",
   "name": "python",
   "nbconvert_exporter": "python",
   "pygments_lexer": "ipython3",
   "version": "3.7.9"
  }
 },
 "nbformat": 4,
 "nbformat_minor": 4
}
